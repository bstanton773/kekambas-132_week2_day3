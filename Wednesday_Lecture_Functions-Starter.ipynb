{
 "cells": [
  {
   "cell_type": "markdown",
   "metadata": {},
   "source": [
    "# Functions"
   ]
  },
  {
   "cell_type": "markdown",
   "metadata": {},
   "source": [
    "#### Warm up"
   ]
  },
  {
   "cell_type": "code",
   "execution_count": 1,
   "metadata": {},
   "outputs": [
    {
     "name": "stdout",
     "output_type": "stream",
     "text": [
      "['The Beatles', 'The Rolling Stones', 'The Eagles', 'The Temptations']\n"
     ]
    }
   ],
   "source": [
    "bands1 = ['  thE beATles   ', 'tHe RoLLing sTones..', '.,tHe eagles', 'the tEMptationS  ']\n",
    "\n",
    "clean_bands1 = [band.strip(' .,').title() for band in bands1]\n",
    "print(clean_bands1)"
   ]
  },
  {
   "cell_type": "code",
   "execution_count": null,
   "metadata": {},
   "outputs": [],
   "source": [
    "# Output: ['The Beatles', 'The Rolling Stones', etc]"
   ]
  },
  {
   "cell_type": "code",
   "execution_count": 2,
   "metadata": {},
   "outputs": [
    {
     "name": "stdout",
     "output_type": "stream",
     "text": [
      "['The Who', 'The Doors', 'The Band', 'The Kinks']\n"
     ]
    }
   ],
   "source": [
    "bands2 = [' The whO  ', '  .   , tHE dOORS  ', ' the bAnd   ', '...,  THE kINks    ']\n",
    "\n",
    "clean_bands2 = [band.strip(' .,').title() for band in bands2]\n",
    "print(clean_bands2)"
   ]
  },
  {
   "cell_type": "code",
   "execution_count": 3,
   "metadata": {},
   "outputs": [
    {
     "name": "stdout",
     "output_type": "stream",
     "text": [
      "['The Supemes', 'The Beach Boys']\n"
     ]
    }
   ],
   "source": [
    "bands3 = ['   thE SuPemeS.,,  ', '  ... tHE bEAch BoYs... ']\n",
    "clean_bands3 = [band.strip(' .,').title() for band in bands3]\n",
    "print(clean_bands3)"
   ]
  },
  {
   "cell_type": "markdown",
   "metadata": {},
   "source": [
    "## Functions"
   ]
  },
  {
   "cell_type": "code",
   "execution_count": 4,
   "metadata": {},
   "outputs": [],
   "source": [
    "# DRY Principle\n",
    "# Don't\n",
    "# Repeat\n",
    "# Yourself"
   ]
  },
  {
   "cell_type": "markdown",
   "metadata": {},
   "source": [
    "##### User-Defined vs. Built-In Function"
   ]
  },
  {
   "cell_type": "code",
   "execution_count": 6,
   "metadata": {},
   "outputs": [
    {
     "name": "stdout",
     "output_type": "stream",
     "text": [
      "<built-in function max>\n",
      "Help on built-in function max in module builtins:\n",
      "\n",
      "max(...)\n",
      "    max(iterable, *[, default=obj, key=func]) -> value\n",
      "    max(arg1, arg2, *args, *[, key=func]) -> value\n",
      "    \n",
      "    With a single iterable argument, return its biggest item. The\n",
      "    default keyword-only argument specifies an object to return if\n",
      "    the provided iterable is empty.\n",
      "    With two or more arguments, return the largest argument.\n",
      "\n"
     ]
    }
   ],
   "source": [
    "# Built-in functions\n",
    "print(max)\n",
    "help(max)"
   ]
  },
  {
   "cell_type": "code",
   "execution_count": 8,
   "metadata": {},
   "outputs": [
    {
     "name": "stdout",
     "output_type": "stream",
     "text": [
      "<function say_hello at 0x00000191BDE9B640>\n"
     ]
    },
    {
     "data": {
      "text/plain": [
       "<function __main__.say_hello()>"
      ]
     },
     "execution_count": 8,
     "metadata": {},
     "output_type": "execute_result"
    }
   ],
   "source": [
    "# User Defined Function\n",
    "# Syntax: def function_name():\n",
    "#             <CODE TO EXECUTE WHEN CALLED>\n",
    "\n",
    "# Creating a function\n",
    "def say_hello(): # defining the function\n",
    "    print('Hello!')\n",
    "\n",
    "print(say_hello)\n",
    "say_hello"
   ]
  },
  {
   "cell_type": "code",
   "execution_count": 9,
   "metadata": {},
   "outputs": [
    {
     "name": "stdout",
     "output_type": "stream",
     "text": [
      "Help on function say_hello in module __main__:\n",
      "\n",
      "say_hello()\n",
      "    # Creating a function\n",
      "\n"
     ]
    }
   ],
   "source": [
    "help(say_hello)"
   ]
  },
  {
   "cell_type": "code",
   "execution_count": 10,
   "metadata": {},
   "outputs": [
    {
     "name": "stdout",
     "output_type": "stream",
     "text": [
      "Hello!\n"
     ]
    }
   ],
   "source": [
    "# Executing a function\n",
    "# Syntax: function_name()\n",
    "\n",
    "say_hello()"
   ]
  },
  {
   "cell_type": "code",
   "execution_count": 11,
   "metadata": {},
   "outputs": [
    {
     "name": "stdout",
     "output_type": "stream",
     "text": [
      "Hello!\n"
     ]
    }
   ],
   "source": [
    "say_hello()"
   ]
  },
  {
   "cell_type": "markdown",
   "metadata": {},
   "source": [
    "##### Accepting Parameters"
   ]
  },
  {
   "cell_type": "code",
   "execution_count": 13,
   "metadata": {},
   "outputs": [
    {
     "name": "stdout",
     "output_type": "stream",
     "text": [
      "Hello Brian Stanton! How are you today?\n"
     ]
    }
   ],
   "source": [
    "# Syntax: def function_name(param1, param2):\n",
    "#             <CODE TO EXECUTE with variable param1 and param2>\n",
    "def say_hello_again(first, last): # first and last are parameters (aka placeholders)\n",
    "    print(f\"Hello {first.title()} {last.title()}! How are you today?\")\n",
    "\n",
    "    \n",
    "# Execute\n",
    "# Syntax: function_name(data1, data2)\n",
    "say_hello_again('brian', 'stanton') # 'brian' and 'stanton' are arguments (aka real data)"
   ]
  },
  {
   "cell_type": "code",
   "execution_count": 14,
   "metadata": {},
   "outputs": [
    {
     "name": "stdout",
     "output_type": "stream",
     "text": [
      "Hello Sarah Stodder! How are you today?\n"
     ]
    }
   ],
   "source": [
    "say_hello_again('sarah', 'stodder')"
   ]
  },
  {
   "cell_type": "code",
   "execution_count": 15,
   "metadata": {},
   "outputs": [
    {
     "name": "stdout",
     "output_type": "stream",
     "text": [
      "Hello Stanton Brian! How are you today?\n"
     ]
    }
   ],
   "source": [
    "say_hello_again('stanton', 'brian') # Position Matters!"
   ]
  },
  {
   "cell_type": "markdown",
   "metadata": {},
   "source": [
    "##### Passing in variables as arguments"
   ]
  },
  {
   "cell_type": "code",
   "execution_count": 16,
   "metadata": {},
   "outputs": [],
   "source": [
    "city1 = 'Boston'\n",
    "state1 = 'MA'\n",
    "zip_code1 = '02134'\n",
    "\n",
    "city2 = 'New York'\n",
    "state2 = 'NY'\n",
    "zip_code2 = '12045'"
   ]
  },
  {
   "cell_type": "code",
   "execution_count": 22,
   "metadata": {},
   "outputs": [],
   "source": [
    "# Function to format an address -> City, State -- Zip Code\n",
    "\n",
    "def format_address(city_name, state_code, zip_code): # city_name, state_code, and zip_code are parameters\n",
    "    print(f\"{city_name.title()}, {state_code.upper()} -- {zip_code}\")"
   ]
  },
  {
   "cell_type": "code",
   "execution_count": 23,
   "metadata": {},
   "outputs": [
    {
     "name": "stdout",
     "output_type": "stream",
     "text": [
      "Chicago, IL -- 60606\n"
     ]
    }
   ],
   "source": [
    "format_address('Chicago', 'il', '60606')"
   ]
  },
  {
   "cell_type": "code",
   "execution_count": 24,
   "metadata": {},
   "outputs": [
    {
     "name": "stdout",
     "output_type": "stream",
     "text": [
      "Boston, MA -- 02134\n"
     ]
    }
   ],
   "source": [
    "format_address(city1, state1, zip_code1)"
   ]
  },
  {
   "cell_type": "code",
   "execution_count": 25,
   "metadata": {},
   "outputs": [
    {
     "name": "stdout",
     "output_type": "stream",
     "text": [
      "New York, NY -- 12045\n"
     ]
    }
   ],
   "source": [
    "format_address(city2, state2, zip_code2)"
   ]
  },
  {
   "cell_type": "code",
   "execution_count": 26,
   "metadata": {},
   "outputs": [
    {
     "name": "stdout",
     "output_type": "stream",
     "text": [
      "Los Angeles, CA -- 98373\n"
     ]
    }
   ],
   "source": [
    "city_name = 'Los Angeles'\n",
    "state_code = 'CA'\n",
    "zip_code = '98373'\n",
    "\n",
    "format_address(city_name, state_code, zip_code) # city_name, state_code, and zip_code are arguments"
   ]
  },
  {
   "cell_type": "code",
   "execution_count": 27,
   "metadata": {},
   "outputs": [],
   "source": [
    "def main():\n",
    "    print('This is an address formatter program.')\n",
    "    keep_going = True\n",
    "    while keep_going:\n",
    "        city = input('In which city do you live? ')\n",
    "        state = input(f'What is the state code for {city.title()}? ')\n",
    "        zip_code = input('What is your zip code? ')\n",
    "        format_address(city, state, zip_code)\n",
    "        response = input('Would you like to format another address? Type \"no\" to quit').lower()\n",
    "        if response == 'no':\n",
    "            keep_going = False"
   ]
  },
  {
   "cell_type": "code",
   "execution_count": 28,
   "metadata": {
    "scrolled": true
   },
   "outputs": [
    {
     "name": "stdout",
     "output_type": "stream",
     "text": [
      "This is an address formatter program.\n",
      "In which city do you live? CHicago\n",
      "What is the state code for Chicago? il\n",
      "What is your zip code? 60606\n",
      "Chicago, IL -- 60606\n",
      "Would you like to format another address? Type \"no\" to quityes\n",
      "In which city do you live? Boston\n",
      "What is the state code for Boston? ma\n",
      "What is your zip code? 02134\n",
      "Boston, MA -- 02134\n",
      "Would you like to format another address? Type \"no\" to quitno\n"
     ]
    }
   ],
   "source": [
    "main()"
   ]
  },
  {
   "cell_type": "code",
   "execution_count": 29,
   "metadata": {},
   "outputs": [
    {
     "name": "stdout",
     "output_type": "stream",
     "text": [
      "Ut, 74732 -- Salt Lake City\n"
     ]
    }
   ],
   "source": [
    "format_address('UT', '74732', 'Salt Lake City')"
   ]
  },
  {
   "cell_type": "markdown",
   "metadata": {},
   "source": [
    "##### Keyword Arguments"
   ]
  },
  {
   "cell_type": "code",
   "execution_count": 30,
   "metadata": {},
   "outputs": [],
   "source": [
    "# Function for making a payment to a loan\n",
    "\n",
    "def make_a_payment(total_amount_due, amount_paid, account_number):\n",
    "    new_total = total_amount_due - amount_paid\n",
    "    print(f\"You have made a payment of ${amount_paid} to Account #{account_number}\")\n",
    "    print(f\"You new balance is ${new_total}\")\n",
    "    print(\"Thank you for your payment!\")"
   ]
  },
  {
   "cell_type": "code",
   "execution_count": 31,
   "metadata": {},
   "outputs": [
    {
     "name": "stdout",
     "output_type": "stream",
     "text": [
      "You have made a payment of $100 to Account #347132984732\n",
      "You new balance is $900\n",
      "Thank you for your payment!\n"
     ]
    }
   ],
   "source": [
    "make_a_payment(1000, 100, '347132984732') # Positional Arguments"
   ]
  },
  {
   "cell_type": "code",
   "execution_count": 32,
   "metadata": {},
   "outputs": [
    {
     "name": "stdout",
     "output_type": "stream",
     "text": [
      "You have made a payment of $200 to Account #5678903403948\n",
      "You new balance is $1300\n",
      "Thank you for your payment!\n"
     ]
    }
   ],
   "source": [
    "# Keyword Arguments\n",
    "# function_name(param_name1=value1, param_name2=value2, etc.)\n",
    "make_a_payment(amount_paid=200, account_number='5678903403948', total_amount_due=1500)"
   ]
  },
  {
   "cell_type": "code",
   "execution_count": 33,
   "metadata": {},
   "outputs": [
    {
     "name": "stdout",
     "output_type": "stream",
     "text": [
      "You have made a payment of $1000 to Account #92174853328974\n",
      "You new balance is $4000\n",
      "Thank you for your payment!\n"
     ]
    }
   ],
   "source": [
    "# combination of position and keyword work together - *All keyword arguments must come AFTER positional arguments*\n",
    "\n",
    "make_a_payment(5000, account_number='92174853328974', amount_paid=1000)"
   ]
  },
  {
   "cell_type": "code",
   "execution_count": 35,
   "metadata": {},
   "outputs": [],
   "source": [
    "# combination of position and keyword work together - *All keyword arguments must come AFTER positional arguments*\n",
    "\n",
    "# ERROR!\n",
    "# make_a_payment(account_number='92174853328974', amount_paid=1000, 5000)"
   ]
  },
  {
   "cell_type": "markdown",
   "metadata": {},
   "source": [
    "##### Default Parameters"
   ]
  },
  {
   "cell_type": "code",
   "execution_count": 46,
   "metadata": {
    "scrolled": true
   },
   "outputs": [],
   "source": [
    "# def function_name(pos_param1, pos_param2, default_param1=default_val1, default_param2=default_val2):\n",
    "#     <Code for function here>\n",
    "\n",
    "# Default Parameters need to be AFTER any non-default parameters\n",
    "\n",
    "def make_a_burger(customer_name, cheese=True, lettuce=True, tomato=True, onions=None, bacon=0):\n",
    "    total_price = 4.50\n",
    "    receipt = f\"Thank you {customer_name}. Here is your receipt:\\n\"\n",
    "    receipt += \"1 Hamburger\\n\"\n",
    "    if cheese:\n",
    "        receipt += \"\\twith cheese\\n\"\n",
    "    if lettuce:\n",
    "        receipt += \"\\twith lettuce\\n\"\n",
    "    if tomato:\n",
    "        receipt += \"\\twith tomato\\n\"\n",
    "    if onions:\n",
    "        receipt += f\"\\twith {onions} onions\\n\"\n",
    "    if bacon:\n",
    "        receipt += f\"\\twith {bacon} pieces of bacon\\n\"\n",
    "        total_price += .75*bacon\n",
    "    receipt += f\"Total: ${total_price:.2f}\"\n",
    "    print(receipt)"
   ]
  },
  {
   "cell_type": "code",
   "execution_count": 47,
   "metadata": {},
   "outputs": [
    {
     "name": "stdout",
     "output_type": "stream",
     "text": [
      "Thank you Brian. Here is your receipt:\n",
      "1 Hamburger\n",
      "\twith cheese\n",
      "\twith lettuce\n",
      "\twith tomato\n",
      "Total: $4.50\n"
     ]
    }
   ],
   "source": [
    "make_a_burger('Brian')"
   ]
  },
  {
   "cell_type": "code",
   "execution_count": 48,
   "metadata": {},
   "outputs": [
    {
     "name": "stdout",
     "output_type": "stream",
     "text": [
      "Thank you Alex. Here is your receipt:\n",
      "1 Hamburger\n",
      "\twith lettuce\n",
      "\twith tomato\n",
      "Total: $4.50\n"
     ]
    }
   ],
   "source": [
    "make_a_burger('Alex', False)"
   ]
  },
  {
   "cell_type": "code",
   "execution_count": 53,
   "metadata": {},
   "outputs": [
    {
     "name": "stdout",
     "output_type": "stream",
     "text": [
      "Thank you Frank. Here is your receipt:\n",
      "1 Hamburger\n",
      "\twith cheese\n",
      "\twith lettuce\n",
      "\twith tomato\n",
      "\twith 2 pieces of bacon\n",
      "Total: $6.00\n"
     ]
    }
   ],
   "source": [
    "make_a_burger('Frank', True, True, True, None, 2)"
   ]
  },
  {
   "cell_type": "code",
   "execution_count": 54,
   "metadata": {},
   "outputs": [
    {
     "name": "stdout",
     "output_type": "stream",
     "text": [
      "Thank you Frank. Here is your receipt:\n",
      "1 Hamburger\n",
      "\twith cheese\n",
      "\twith lettuce\n",
      "\twith tomato\n",
      "\twith 2 pieces of bacon\n",
      "Total: $6.00\n"
     ]
    }
   ],
   "source": [
    "make_a_burger('Frank', bacon=2)"
   ]
  },
  {
   "cell_type": "code",
   "execution_count": 85,
   "metadata": {},
   "outputs": [
    {
     "name": "stdout",
     "output_type": "stream",
     "text": [
      "Thank you Natalie. Here is your receipt:\n",
      "1 Hamburger\n",
      "\twith cheese\n",
      "\twith lettuce\n",
      "\twith grilled onions\n",
      "\twith 3 pieces of bacon\n",
      "Total: $6.75\n"
     ]
    }
   ],
   "source": [
    "make_a_burger('Natalie', onions='grilled', tomato=False, bacon=3)"
   ]
  },
  {
   "cell_type": "markdown",
   "metadata": {},
   "source": [
    "##### \\*args and **kwargs"
   ]
  },
  {
   "cell_type": "code",
   "execution_count": 55,
   "metadata": {},
   "outputs": [
    {
     "name": "stdout",
     "output_type": "stream",
     "text": [
      "Help on built-in function min in module builtins:\n",
      "\n",
      "min(...)\n",
      "    min(iterable, *[, default=obj, key=func]) -> value\n",
      "    min(arg1, arg2, *args, *[, key=func]) -> value\n",
      "    \n",
      "    With a single iterable argument, return its smallest item. The\n",
      "    default keyword-only argument specifies an object to return if\n",
      "    the provided iterable is empty.\n",
      "    With two or more arguments, return the smallest argument.\n",
      "\n"
     ]
    }
   ],
   "source": [
    "help(min)"
   ]
  },
  {
   "cell_type": "code",
   "execution_count": 64,
   "metadata": {},
   "outputs": [
    {
     "data": {
      "text/plain": [
       "9"
      ]
     },
     "execution_count": 64,
     "metadata": {},
     "output_type": "execute_result"
    }
   ],
   "source": [
    "min(12, 24, 22, 10, 50, 23, 43, 9)"
   ]
  },
  {
   "cell_type": "code",
   "execution_count": 67,
   "metadata": {},
   "outputs": [
    {
     "name": "stdout",
     "output_type": "stream",
     "text": [
      "Arg1: 1\n",
      "Args: (2, 3, 5, 643, 234, 2314, 324, 456, 2314, 134, 35) <class 'tuple'>\n"
     ]
    }
   ],
   "source": [
    "def my_function(arg1, *args):\n",
    "    print('Arg1:', arg1)\n",
    "    print('Args:', args, type(args))\n",
    "    \n",
    "    \n",
    "my_function(1, 2, 3, 5, 643, 234, 2314, 324, 456, 2314, 134, 35)"
   ]
  },
  {
   "cell_type": "code",
   "execution_count": 77,
   "metadata": {},
   "outputs": [
    {
     "name": "stdout",
     "output_type": "stream",
     "text": [
      "(99, 95, 91, 99, 89, 92, 90, 93)\n"
     ]
    },
    {
     "data": {
      "text/plain": [
       "93.5"
      ]
     },
     "execution_count": 77,
     "metadata": {},
     "output_type": "execute_result"
    }
   ],
   "source": [
    "def average(*nums):\n",
    "    print(nums)\n",
    "    total = 0\n",
    "    for num in nums:\n",
    "        total += num\n",
    "    return total/len(nums)\n",
    "\n",
    "average(99, 95, 91, 99, 89, 92, 90, 93)"
   ]
  },
  {
   "cell_type": "code",
   "execution_count": 86,
   "metadata": {},
   "outputs": [
    {
     "name": "stdout",
     "output_type": "stream",
     "text": [
      "{'name': 'Brian', 'city': 'Chicago', 'age': 88, 'languages': ['Python', 'JavaScript'], 'avacado': True}\n",
      "<class 'dict'>\n"
     ]
    }
   ],
   "source": [
    "def another_function(**kwargs):\n",
    "    print(kwargs)\n",
    "    print(type(kwargs))\n",
    "    \n",
    "another_function(name='Brian', city='Chicago', age=88, languages=['Python', 'JavaScript'], avacado=True)"
   ]
  },
  {
   "cell_type": "code",
   "execution_count": 92,
   "metadata": {},
   "outputs": [
    {
     "name": "stdout",
     "output_type": "stream",
     "text": [
      "arg1: A\n",
      "arg2: B\n",
      "args: ('C', 'D', 'E', 'F')\n",
      "default: goodbye\n",
      "kwargs: {'test': 123, 'name': 'Brian'}\n"
     ]
    }
   ],
   "source": [
    "def all_together(arg1, arg2, *args, default='hello', **kwargs):\n",
    "    print('arg1:', arg1)\n",
    "    print('arg2:', arg2)\n",
    "    print('args:', args)\n",
    "    print('default:', default)\n",
    "    print('kwargs:', kwargs)\n",
    "    \n",
    "    \n",
    "all_together('A', 'B', 'C', 'D', 'E', 'F', test=123, name='Brian', default='goodbye')"
   ]
  },
  {
   "cell_type": "markdown",
   "metadata": {},
   "source": [
    "#### In Class Exercise 1"
   ]
  },
  {
   "cell_type": "markdown",
   "metadata": {},
   "source": [
    "Create a function that takes in a color, make, and model and formats it into a string.<br>\n",
    "Then loop over the cars list and apply the function to each element.<br>\n",
    "Expected Output:<br>\n",
    "<code>Blue Toyota Tundra\n",
    "Green Chevy Silverado\n",
    "Pink Ford F-150</code>\n"
   ]
  },
  {
   "cell_type": "code",
   "execution_count": 94,
   "metadata": {},
   "outputs": [
    {
     "name": "stdout",
     "output_type": "stream",
     "text": [
      "Blue Toyota Tundra\n",
      "Green Chevy Silverado\n",
      "Pink Ford F-150\n",
      "Red Ford Mustang\n",
      "Yellow Toyota Prius\n"
     ]
    }
   ],
   "source": [
    "cars = [\n",
    "    ('blue', 'toyota', 'tundra'), \n",
    "    ('green', 'chevy', 'silverado'), \n",
    "    ('pink', 'ford', 'f-150'), \n",
    "    ('red', 'ford', 'mustang'),\n",
    "    ('yellow', 'toyota', 'prius')\n",
    "]\n",
    "\n",
    "def format_car(color, make, model):\n",
    "    print(f\"{color} {make} {model}\".title())\n",
    "\n",
    "\n",
    "for car in cars:\n",
    "    format_car(car[0], car[1], car[2])"
   ]
  },
  {
   "cell_type": "code",
   "execution_count": 95,
   "metadata": {},
   "outputs": [
    {
     "name": "stdout",
     "output_type": "stream",
     "text": [
      "Blue Toyota Tundra\n",
      "Green Chevy Silverado\n",
      "Pink Ford F-150\n",
      "Red Ford Mustang\n",
      "Yellow Toyota Prius\n"
     ]
    }
   ],
   "source": [
    "for col, mak, mod in cars:\n",
    "    format_car(col, mak, mod)"
   ]
  },
  {
   "cell_type": "code",
   "execution_count": 101,
   "metadata": {},
   "outputs": [
    {
     "name": "stdout",
     "output_type": "stream",
     "text": [
      "2015 Used Red Toyota Prius\n"
     ]
    }
   ],
   "source": [
    "def format_car_args(*args):\n",
    "    print(' '.join(args).title())\n",
    "    \n",
    "format_car_args('2015', 'used', 'red', 'toyota', 'prius')"
   ]
  },
  {
   "cell_type": "code",
   "execution_count": 180,
   "metadata": {},
   "outputs": [
    {
     "name": "stdout",
     "output_type": "stream",
     "text": [
      "Green Honda Civic\n"
     ]
    }
   ],
   "source": [
    "my_car = ('green', 'honda', 'civic')\n",
    "\n",
    "format_car_args(*my_car)"
   ]
  },
  {
   "cell_type": "markdown",
   "metadata": {},
   "source": [
    "## Scope <br>\n",
    "<p>Scope refers to the ability to access variables, different types of scope include:<br>a) Global<br>b) Function (local)<br>c) Class (local)</p>"
   ]
  },
  {
   "cell_type": "code",
   "execution_count": 107,
   "metadata": {},
   "outputs": [
    {
     "name": "stdout",
     "output_type": "stream",
     "text": [
      "Brian has been assigned to Ms. Buttercup's classroom\n",
      "Little Tim has been assigned to Ms. Buttercup's classroom\n"
     ]
    }
   ],
   "source": [
    "student = 'Little Tim' # global variables\n",
    "teacher = 'Ms. Buttercup' # global variables\n",
    "\n",
    "def assign_student(student_name): # student_name is local variable (function)\n",
    "#     teacher = 'Mr Smith'\n",
    "    print(f\"{student_name} has been assigned to {teacher}'s classroom\")\n",
    "    \n",
    "assign_student('Brian')\n",
    "assign_student(student)\n",
    "# print(student_name) # NameError: name 'student_name' is not defined"
   ]
  },
  {
   "cell_type": "code",
   "execution_count": 133,
   "metadata": {},
   "outputs": [],
   "source": [
    "# evens_only = [] # Define global variable evens_only\n",
    "\n",
    "def get_only_evens(list_of_nums):\n",
    "    evens_only = [] # Define local evens_only\n",
    "    # loop through the argument list\n",
    "    for num in list_of_nums:\n",
    "        # Check if the number is even\n",
    "        if num % 2 == 0:\n",
    "            # Add the num to the evens_only list\n",
    "            evens_only.append(num)\n",
    "    # Once finished looping, print the evens only list\n",
    "    print(evens_only)"
   ]
  },
  {
   "cell_type": "code",
   "execution_count": 134,
   "metadata": {},
   "outputs": [
    {
     "name": "stdout",
     "output_type": "stream",
     "text": [
      "[2, 4, 6, 8, 10]\n"
     ]
    }
   ],
   "source": [
    "get_only_evens([1, 2, 3, 4, 5, 6, 7, 8, 9, 10])"
   ]
  },
  {
   "cell_type": "code",
   "execution_count": 135,
   "metadata": {},
   "outputs": [
    {
     "name": "stdout",
     "output_type": "stream",
     "text": [
      "[10, 20, 30, 40, 50]\n"
     ]
    }
   ],
   "source": [
    "get_only_evens([10, 15, 20, 25, 30, 35, 40, 45, 50])"
   ]
  },
  {
   "cell_type": "code",
   "execution_count": 117,
   "metadata": {},
   "outputs": [
    {
     "name": "stdout",
     "output_type": "stream",
     "text": [
      "[1, 2, 3, 4]\n"
     ]
    }
   ],
   "source": [
    "my_list = [1, 2, 3]\n",
    "my_list.append(4)\n",
    "print(my_list)"
   ]
  },
  {
   "cell_type": "code",
   "execution_count": 123,
   "metadata": {},
   "outputs": [
    {
     "name": "stdout",
     "output_type": "stream",
     "text": [
      "Test\n",
      "Test\n",
      "10\n"
     ]
    }
   ],
   "source": [
    "class TestClass:\n",
    "    class_name = 'Test'\n",
    "    def __init__(self):\n",
    "        self.value = 10\n",
    "        \n",
    "    def get_value(self):\n",
    "        return self.value\n",
    "    \n",
    "    @classmethod\n",
    "    def get_class(cls):\n",
    "        return cls.class_name\n",
    "    \n",
    "    \n",
    "print(TestClass.get_class())\n",
    "print(TestClass.class_name)\n",
    "x = TestClass()\n",
    "print(x.get_value())"
   ]
  },
  {
   "cell_type": "code",
   "execution_count": 132,
   "metadata": {
    "scrolled": true
   },
   "outputs": [
    {
     "name": "stdout",
     "output_type": "stream",
     "text": [
      "The number is 60\n"
     ]
    }
   ],
   "source": [
    "x = 10\n",
    "\n",
    "def my_func1():\n",
    "    y = 20\n",
    "    def my_func2():\n",
    "        z = 30\n",
    "        def my_func3():\n",
    "            print(f'The number is {x +  y + z}')\n",
    "        my_func3()\n",
    "    my_func2()\n",
    "#     print(x + y + z)\n",
    "    \n",
    "my_func1()"
   ]
  },
  {
   "cell_type": "code",
   "execution_count": 138,
   "metadata": {},
   "outputs": [
    {
     "name": "stdout",
     "output_type": "stream",
     "text": [
      "[2, 4, 6, 8]\n",
      "None\n"
     ]
    },
    {
     "ename": "TypeError",
     "evalue": "'NoneType' object is not iterable",
     "output_type": "error",
     "traceback": [
      "\u001b[1;31m---------------------------------------------------------------------------\u001b[0m",
      "\u001b[1;31mTypeError\u001b[0m                                 Traceback (most recent call last)",
      "Cell \u001b[1;32mIn[138], line 3\u001b[0m\n\u001b[0;32m      1\u001b[0m evens \u001b[38;5;241m=\u001b[39m get_only_evens([\u001b[38;5;241m1\u001b[39m, \u001b[38;5;241m2\u001b[39m, \u001b[38;5;241m3\u001b[39m, \u001b[38;5;241m4\u001b[39m, \u001b[38;5;241m5\u001b[39m, \u001b[38;5;241m6\u001b[39m, \u001b[38;5;241m7\u001b[39m, \u001b[38;5;241m8\u001b[39m])\n\u001b[0;32m      2\u001b[0m \u001b[38;5;28mprint\u001b[39m(evens)\n\u001b[1;32m----> 3\u001b[0m \u001b[38;5;28;01mfor\u001b[39;00m num \u001b[38;5;129;01min\u001b[39;00m evens:\n\u001b[0;32m      4\u001b[0m     \u001b[38;5;28mprint\u001b[39m(num\u001b[38;5;241m*\u001b[39m\u001b[38;5;241m*\u001b[39m\u001b[38;5;241m2\u001b[39m)\n",
      "\u001b[1;31mTypeError\u001b[0m: 'NoneType' object is not iterable"
     ]
    }
   ],
   "source": [
    "evens = get_only_evens([1, 2, 3, 4, 5, 6, 7, 8])\n",
    "print(evens)\n",
    "for num in evens:\n",
    "    print(num**2)"
   ]
  },
  {
   "cell_type": "markdown",
   "metadata": {},
   "source": [
    "##### Returning Values"
   ]
  },
  {
   "cell_type": "code",
   "execution_count": 145,
   "metadata": {},
   "outputs": [
    {
     "name": "stdout",
     "output_type": "stream",
     "text": [
      "6\n"
     ]
    }
   ],
   "source": [
    "# Mathematical Function - y = f(x)\n",
    "# Where f is the function, x is the input(s), and y is the dependent variable (or the return variable)\n",
    "\n",
    "def f(x):\n",
    "    return 2*x\n",
    "\n",
    "y = f(3)\n",
    "print(y)"
   ]
  },
  {
   "cell_type": "code",
   "execution_count": 146,
   "metadata": {},
   "outputs": [
    {
     "name": "stdout",
     "output_type": "stream",
     "text": [
      "20 400\n"
     ]
    }
   ],
   "source": [
    "z = f(10)\n",
    "print(z, z**2)"
   ]
  },
  {
   "cell_type": "code",
   "execution_count": 149,
   "metadata": {
    "scrolled": true
   },
   "outputs": [
    {
     "name": "stdout",
     "output_type": "stream",
     "text": [
      "0\n"
     ]
    }
   ],
   "source": [
    "# Return will also immediately terminate the function\n",
    "\n",
    "def early_return(n):\n",
    "    for i in range(n):\n",
    "        return i\n",
    "    \n",
    "output = early_return(100000000000)\n",
    "print(output)"
   ]
  },
  {
   "cell_type": "code",
   "execution_count": 152,
   "metadata": {},
   "outputs": [
    {
     "name": "stdout",
     "output_type": "stream",
     "text": [
      "Function started\n",
      "0\n",
      "1\n",
      "2\n",
      "3\n",
      "4\n",
      "Output2: 5\n"
     ]
    }
   ],
   "source": [
    "def another_example(n):\n",
    "    print('Function started')\n",
    "    for i in range(n):\n",
    "        if i == 5:\n",
    "            return i\n",
    "        print(i)\n",
    "    print('Function finished')\n",
    "    \n",
    "output2 = another_example(10000)\n",
    "print('Output2:', output2)"
   ]
  },
  {
   "cell_type": "markdown",
   "metadata": {},
   "source": [
    "#### Multiple returns in a function"
   ]
  },
  {
   "cell_type": "code",
   "execution_count": 163,
   "metadata": {},
   "outputs": [],
   "source": [
    "names = ['Brian', 'Sarah', 'Shoha', 'Brandt', 'Brendan', 'Dylan', 'Katie']\n",
    "\n",
    "def is_in_list(person_name):\n",
    "    # Loop through the list of names (from global var)\n",
    "    for name in names:\n",
    "        # Check if the name from the list matches the input name\n",
    "        if name == person_name:\n",
    "            # the person is in the list, so return True\n",
    "            return True\n",
    "    # If we get through the entire list, we know the person is not in the list so we return False\n",
    "    return False"
   ]
  },
  {
   "cell_type": "code",
   "execution_count": 164,
   "metadata": {},
   "outputs": [
    {
     "data": {
      "text/plain": [
       "True"
      ]
     },
     "execution_count": 164,
     "metadata": {},
     "output_type": "execute_result"
    }
   ],
   "source": [
    "is_in_list('Brian')"
   ]
  },
  {
   "cell_type": "code",
   "execution_count": 165,
   "metadata": {},
   "outputs": [
    {
     "data": {
      "text/plain": [
       "True"
      ]
     },
     "execution_count": 165,
     "metadata": {},
     "output_type": "execute_result"
    }
   ],
   "source": [
    "is_in_list('Sarah')"
   ]
  },
  {
   "cell_type": "code",
   "execution_count": 166,
   "metadata": {},
   "outputs": [
    {
     "data": {
      "text/plain": [
       "False"
      ]
     },
     "execution_count": 166,
     "metadata": {},
     "output_type": "execute_result"
    }
   ],
   "source": [
    "is_in_list('Nate')"
   ]
  },
  {
   "cell_type": "code",
   "execution_count": 169,
   "metadata": {},
   "outputs": [
    {
     "name": "stdout",
     "output_type": "stream",
     "text": [
      "True\n",
      "False\n"
     ]
    }
   ],
   "source": [
    "def can_vote(birth_year):\n",
    "    if 2023 - birth_year >= 18:\n",
    "        return True\n",
    "    else:\n",
    "        return False\n",
    "    \n",
    "print(can_vote(2000))\n",
    "print(can_vote(2010))"
   ]
  },
  {
   "cell_type": "code",
   "execution_count": 174,
   "metadata": {},
   "outputs": [
    {
     "name": "stdout",
     "output_type": "stream",
     "text": [
      "True\n",
      "False\n"
     ]
    }
   ],
   "source": [
    "def can_vote2(year):\n",
    "    if 2023 - year >= 18:\n",
    "        return True\n",
    "    return False\n",
    "\n",
    "print(can_vote2(2000))\n",
    "print(can_vote2(2010))"
   ]
  },
  {
   "cell_type": "markdown",
   "metadata": {},
   "source": [
    "##### Difference between `return` and `print`"
   ]
  },
  {
   "cell_type": "code",
   "execution_count": 184,
   "metadata": {},
   "outputs": [],
   "source": [
    "def max_score(*scores):\n",
    "    current_max = 0\n",
    "    for score in scores:\n",
    "        if score > current_max:\n",
    "            current_max = score\n",
    "    return current_max"
   ]
  },
  {
   "cell_type": "code",
   "execution_count": 185,
   "metadata": {
    "scrolled": false
   },
   "outputs": [
    {
     "name": "stdout",
     "output_type": "stream",
     "text": [
      "Please enter a score or enter \"done\" when done 8\n",
      "Please enter a score or enter \"done\" when done 5\n",
      "Please enter a score or enter \"done\" when done 6\n",
      "Please enter a score or enter \"done\" when done 3\n",
      "Please enter a score or enter \"done\" when done 5\n",
      "Please enter a score or enter \"done\" when done 7\n",
      "Please enter a score or enter \"done\" when done 8\n",
      "Please enter a score or enter \"done\" when done 3\n",
      "Please enter a score or enter \"done\" when done 4\n",
      "Please enter a score or enter \"done\" when done 9\n",
      "Please enter a score or enter \"done\" when done done\n",
      "Congrats to the winner with a top score of 9!\n"
     ]
    }
   ],
   "source": [
    "scores = []\n",
    "\n",
    "while True:\n",
    "    score = input('Please enter a score or enter \"done\" when done ').lower()\n",
    "    if score == 'done':\n",
    "        break\n",
    "    scores.append(int(score))\n",
    "    \n",
    "top_score = max_score(*scores)\n",
    "print(f\"Congrats to the winner with a top score of {top_score}!\")"
   ]
  },
  {
   "cell_type": "code",
   "execution_count": 186,
   "metadata": {},
   "outputs": [],
   "source": [
    "def create_headline_print(message):\n",
    "    print(message.strip().title() + '!')\n",
    "    \n",
    "def create_headline_return(message):\n",
    "    return message.strip().title() + '!'"
   ]
  },
  {
   "cell_type": "code",
   "execution_count": 187,
   "metadata": {},
   "outputs": [],
   "source": [
    "def format_blog_post(headline, author, body):\n",
    "    return f\"\"\"\n",
    "    {headline} by {author}\n",
    "    {body}\n",
    "    \"\"\""
   ]
  },
  {
   "cell_type": "code",
   "execution_count": 189,
   "metadata": {},
   "outputs": [
    {
     "name": "stdout",
     "output_type": "stream",
     "text": [
      "Enter the headline for your post:       happy weDneSday \n",
      "Enter the body for your post: Today is Wednesday my dudes!\n",
      "Who is the author of the post: Brian\n",
      "\n",
      "    Happy Wednesday! by Brian\n",
      "    Today is Wednesday my dudes!\n",
      "    \n"
     ]
    }
   ],
   "source": [
    "def publish_article():\n",
    "    headline = input('Enter the headline for your post: ')\n",
    "    body = input('Enter the body for your post: ')\n",
    "    author = input('Who is the author of the post: ')\n",
    "    clean_headline = create_headline_return(headline)\n",
    "    blog = format_blog_post(clean_headline, author, body)\n",
    "    print(blog)\n",
    "    \n",
    "    \n",
    "publish_article()"
   ]
  },
  {
   "cell_type": "markdown",
   "metadata": {},
   "source": [
    "#### Functions with Lists"
   ]
  },
  {
   "cell_type": "code",
   "execution_count": 190,
   "metadata": {},
   "outputs": [
    {
     "name": "stdout",
     "output_type": "stream",
     "text": [
      "['  thE beATles   ', 'tHe RoLLing sTones..', '.,tHe eagles', 'the tEMptationS  ']\n",
      "[' The whO  ', '  .   , tHE dOORS  ', ' the bAnd   ', '...,  THE kINks    ']\n"
     ]
    }
   ],
   "source": [
    "print(bands1)\n",
    "print(bands2)"
   ]
  },
  {
   "cell_type": "code",
   "execution_count": 191,
   "metadata": {},
   "outputs": [],
   "source": [
    "def clean_band_names(band_list):\n",
    "    fixed_bands = [band.strip(' .,').title() for band in band_list]\n",
    "    return fixed_bands"
   ]
  },
  {
   "cell_type": "code",
   "execution_count": 192,
   "metadata": {},
   "outputs": [
    {
     "name": "stdout",
     "output_type": "stream",
     "text": [
      "['The Beatles', 'The Rolling Stones', 'The Eagles', 'The Temptations']\n"
     ]
    }
   ],
   "source": [
    "clean_bands1 = clean_band_names(bands1)\n",
    "print(clean_bands1)"
   ]
  },
  {
   "cell_type": "code",
   "execution_count": 193,
   "metadata": {},
   "outputs": [
    {
     "name": "stdout",
     "output_type": "stream",
     "text": [
      "['The Who', 'The Doors', 'The Band', 'The Kinks']\n"
     ]
    }
   ],
   "source": [
    "clean_bands2 = clean_band_names(bands2)\n",
    "print(clean_bands2)"
   ]
  },
  {
   "cell_type": "code",
   "execution_count": 194,
   "metadata": {},
   "outputs": [
    {
     "name": "stdout",
     "output_type": "stream",
     "text": [
      "['The Supemes', 'The Beach Boys']\n"
     ]
    }
   ],
   "source": [
    "clean3 = clean_band_names(bands3)\n",
    "print(clean3)"
   ]
  },
  {
   "cell_type": "markdown",
   "metadata": {},
   "source": [
    "#### In-Class Exercise 2"
   ]
  },
  {
   "cell_type": "markdown",
   "metadata": {},
   "source": [
    "Create a function that takes in the list of tuples ('city', 'country') and a country name and returns a list of the cities in that country"
   ]
  },
  {
   "cell_type": "code",
   "execution_count": 206,
   "metadata": {},
   "outputs": [],
   "source": [
    "euro_cities = [\n",
    "    (\"London\", \"England\"), \n",
    "    (\"Manchester\", \"England\"), \n",
    "    (\"Barcelona\", \"Spain\"), \n",
    "    (\"Madrid\", \"Spain\"), \n",
    "    (\"Rome\", \"Italy\"), \n",
    "    (\"Florence\", \"Italy\")\n",
    "]\n",
    "\n",
    "nor_so_am_cities = [\n",
    "    (\"Mexico City\", \"Mexico\"),\n",
    "    (\"Buenos Aires\", \"Argentina\"),\n",
    "    (\"Sao Paulo\", \"Brazil\"),\n",
    "    (\"Santiago\", \"Chile\"),\n",
    "    (\"Rio De Janeiro\", \"Brazil\")\n",
    "]\n",
    "\n",
    "def cities_in_country(list_of_tuples, country_name):\n",
    "    # Set up our output list\n",
    "    output = []\n",
    "    # loop over the list of tuple\n",
    "    for city, country in list_of_tuples:\n",
    "        # if the 1-index of the tuple (aka the country) matches the country name passed in\n",
    "        if country == country_name:\n",
    "            # add the city of that country to the output list\n",
    "            output.append(city)\n",
    "    # After we have looped through all of the tuples, return the output list\n",
    "    return output\n"
   ]
  },
  {
   "cell_type": "code",
   "execution_count": 207,
   "metadata": {},
   "outputs": [
    {
     "name": "stdout",
     "output_type": "stream",
     "text": [
      "['Rome', 'Florence']\n",
      "['Barcelona', 'Madrid']\n",
      "['Sao Paulo', 'Rio De Janeiro']\n"
     ]
    }
   ],
   "source": [
    "print(cities_in_country(euro_cities, 'Italy')) # ['Rome', 'Florence']\n",
    "print(cities_in_country(euro_cities, 'Spain')) # ['Barcelona', 'Madrid']\n",
    "print(cities_in_country(nor_so_am_cities, 'Brazil')) # ['Sao Paolo', 'Rio De Janeiro']"
   ]
  },
  {
   "cell_type": "markdown",
   "metadata": {},
   "source": [
    "#### Docstrings"
   ]
  },
  {
   "cell_type": "code",
   "execution_count": 195,
   "metadata": {},
   "outputs": [
    {
     "name": "stdout",
     "output_type": "stream",
     "text": [
      "Help on built-in function len in module builtins:\n",
      "\n",
      "len(obj, /)\n",
      "    Return the number of items in a container.\n",
      "\n"
     ]
    }
   ],
   "source": [
    "help(len)"
   ]
  },
  {
   "cell_type": "code",
   "execution_count": 196,
   "metadata": {},
   "outputs": [
    {
     "name": "stdout",
     "output_type": "stream",
     "text": [
      "Help on function clean_band_names in module __main__:\n",
      "\n",
      "clean_band_names(band_list)\n",
      "\n"
     ]
    }
   ],
   "source": [
    "help(clean_band_names)"
   ]
  },
  {
   "cell_type": "code",
   "execution_count": 199,
   "metadata": {},
   "outputs": [
    {
     "name": "stdout",
     "output_type": "stream",
     "text": [
      "Help on function add_nums in module __main__:\n",
      "\n",
      "add_nums(num1, num2)\n",
      "    add_nums takes in two number types (int or float) and will return the two added together\n",
      "    num1 -> int or float\n",
      "    num2 -> int or float\n",
      "    returns int or float\n",
      "\n"
     ]
    }
   ],
   "source": [
    "# A docstring is a string that is directly after our function definition, first line of function code block\n",
    "\n",
    "def add_nums(num1, num2):\n",
    "    \"\"\"\n",
    "    add_nums takes in two number types (int or float) and will return the two added together\n",
    "    num1 -> int or float\n",
    "    num2 -> int or float\n",
    "    returns int or float\n",
    "    \"\"\"\n",
    "    return num1 + num2\n",
    "\n",
    "help(add_nums)"
   ]
  },
  {
   "cell_type": "code",
   "execution_count": 201,
   "metadata": {},
   "outputs": [
    {
     "data": {
      "text/plain": [
       "30"
      ]
     },
     "execution_count": 201,
     "metadata": {},
     "output_type": "execute_result"
    }
   ],
   "source": [
    "add_nums(10, 20)"
   ]
  },
  {
   "cell_type": "code",
   "execution_count": 202,
   "metadata": {
    "scrolled": true
   },
   "outputs": [
    {
     "data": {
      "text/plain": [
       "7.6"
      ]
     },
     "execution_count": 202,
     "metadata": {},
     "output_type": "execute_result"
    }
   ],
   "source": [
    "add_nums(2.3, 5.3)"
   ]
  },
  {
   "cell_type": "code",
   "execution_count": 203,
   "metadata": {},
   "outputs": [
    {
     "name": "stdout",
     "output_type": "stream",
     "text": [
      "30\n",
      "7.6\n"
     ]
    }
   ],
   "source": [
    "def x(y,z):\n",
    "    return y+z\n",
    "\n",
    "print(x(10, 20))\n",
    "print(x(2.3, 5.3))"
   ]
  },
  {
   "cell_type": "code",
   "execution_count": null,
   "metadata": {},
   "outputs": [],
   "source": []
  }
 ],
 "metadata": {
  "kernelspec": {
   "display_name": "Python 3 (ipykernel)",
   "language": "python",
   "name": "python3"
  },
  "language_info": {
   "codemirror_mode": {
    "name": "ipython",
    "version": 3
   },
   "file_extension": ".py",
   "mimetype": "text/x-python",
   "name": "python",
   "nbconvert_exporter": "python",
   "pygments_lexer": "ipython3",
   "version": "3.10.9"
  }
 },
 "nbformat": 4,
 "nbformat_minor": 2
}
